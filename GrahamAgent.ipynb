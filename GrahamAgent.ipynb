{
  "nbformat": 4,
  "nbformat_minor": 0,
  "metadata": {
    "colab": {
      "provenance": [],
      "authorship_tag": "ABX9TyPWdmUDHqiHE9IdMpTCopIQ",
      "include_colab_link": true
    },
    "kernelspec": {
      "name": "python3",
      "display_name": "Python 3"
    },
    "language_info": {
      "name": "python"
    }
  },
  "cells": [
    {
      "cell_type": "markdown",
      "metadata": {
        "id": "view-in-github",
        "colab_type": "text"
      },
      "source": [
        "<a href=\"https://colab.research.google.com/github/anweshaban21/Portfolio_Agents/blob/main/GrahamAgent.ipynb\" target=\"_parent\"><img src=\"https://colab.research.google.com/assets/colab-badge.svg\" alt=\"Open In Colab\"/></a>"
      ]
    },
    {
      "cell_type": "code",
      "execution_count": 1,
      "metadata": {
        "id": "T-SsB1cWEn7K"
      },
      "outputs": [],
      "source": [
        "import yfinance as yf\n",
        "\n",
        "ticker = yf.Ticker(\"AAPL\")\n",
        "info = ticker.info\n",
        "\n",
        "pe = info['trailingPE']\n",
        "pb = info['priceToBook']\n",
        "debt_equity = info['debtToEquity']\n",
        "current_ratio = info.get('currentRatio', None)\n",
        "eps = info['trailingEps']\n",
        "book_value = info['bookValue']\n",
        "price = info['currentPrice']\n"
      ]
    },
    {
      "cell_type": "markdown",
      "source": [
        "Applying Graham Criteria\n"
      ],
      "metadata": {
        "id": "JKI7QjX6E1g7"
      }
    },
    {
      "cell_type": "code",
      "source": [
        "def ben_graham_score(info):\n",
        "    score = 0\n",
        "    if info['trailingPE'] < 15:\n",
        "        score += 1\n",
        "    if info['priceToBook'] < 1.5:\n",
        "        score += 1\n",
        "    if info.get('currentRatio', 0) > 2:\n",
        "        score += 1\n",
        "    if info['debtToEquity'] < 1:\n",
        "        score += 1\n",
        "    return score  # out of 4\n"
      ],
      "metadata": {
        "id": "iHgmOak8E5kW"
      },
      "execution_count": 2,
      "outputs": []
    },
    {
      "cell_type": "code",
      "source": [
        "import math\n",
        "def graham_number(eps, book_value):\n",
        "    return math.sqrt(22.5 * eps * book_value)"
      ],
      "metadata": {
        "id": "zxa2EmfXFWA8"
      },
      "execution_count": 6,
      "outputs": []
    },
    {
      "cell_type": "code",
      "source": [
        "graham = graham_number(eps, book_value)\n",
        "recommendation = \"Buy\" if price < graham else \"Avoid\"\n"
      ],
      "metadata": {
        "id": "3J2P2TsNE90-"
      },
      "execution_count": 7,
      "outputs": []
    },
    {
      "cell_type": "code",
      "source": [
        "margin_of_safety = 0.8\n",
        "\n",
        "if price < margin_of_safety * graham:\n",
        "    recommendation = \"Strong Buy\"\n",
        "elif price < graham:\n",
        "    recommendation = \"Buy\"\n",
        "else:\n",
        "    recommendation = \"Avoid\"\n",
        "\n",
        "print(f\"Current Price: ${price}\")\n",
        "print(f\"Graham Number: ${graham:.2f}\")\n",
        "print(f\"Recommendation: {recommendation}\")"
      ],
      "metadata": {
        "colab": {
          "base_uri": "https://localhost:8080/"
        },
        "id": "a8TqaknSFtfG",
        "outputId": "cbe6896c-9a1d-45c9-9bae-7d4485c9162d"
      },
      "execution_count": 8,
      "outputs": [
        {
          "output_type": "stream",
          "name": "stdout",
          "text": [
            "Current Price: $195.9059\n",
            "Graham Number: $25.06\n",
            "Recommendation: Avoid\n"
          ]
        }
      ]
    }
  ]
}