{
  "nbformat": 4,
  "nbformat_minor": 0,
  "metadata": {
    "colab": {
      "provenance": [],
      "authorship_tag": "ABX9TyNsVFGFcWvq0zUkKfpjWbvW",
      "include_colab_link": true
    },
    "kernelspec": {
      "name": "python3",
      "display_name": "Python 3"
    },
    "language_info": {
      "name": "python"
    }
  },
  "cells": [
    {
      "cell_type": "markdown",
      "metadata": {
        "id": "view-in-github",
        "colab_type": "text"
      },
      "source": [
        "<a href=\"https://colab.research.google.com/github/anweshaban21/Portfolio_Agents/blob/main/VolatilityCheck.ipynb\" target=\"_parent\"><img src=\"https://colab.research.google.com/assets/colab-badge.svg\" alt=\"Open In Colab\"/></a>"
      ]
    },
    {
      "cell_type": "code",
      "execution_count": 23,
      "metadata": {
        "id": "hGFPpcnYhe_7"
      },
      "outputs": [],
      "source": [
        "import yfinance as yf\n",
        "import numpy as np\n",
        "from datetime import datetime, timedelta\n",
        "import pandas as pd\n",
        "\n",
        "def calculate_annualized_volatility(symbol, start_date, end_date):\n",
        "    try:\n",
        "        df = yf.download(symbol + \".NS\", start=start_date, end=end_date, progress=False)\n",
        "        if df.empty:\n",
        "            print(f\"No data for {symbol}\")\n",
        "            return None\n",
        "        df['log_return'] = np.log(df['Close'] / df['Close'].shift(1))\n",
        "        hv = np.std(df['log_return'].dropna()) * np.sqrt(252)\n",
        "        return hv\n",
        "    except Exception as e:\n",
        "        print(f\"Error with {symbol}: {e}\")\n",
        "        return None\n",
        "\n",
        "def filter_stable_stocks(stock_list, hv_threshold=0.35):\n",
        "    end_date = datetime.today()\n",
        "    start_date = end_date - timedelta(days=5*365)  # 5 years\n",
        "\n",
        "    hv_results = {}\n",
        "    for stock in stock_list:\n",
        "        hv = calculate_annualized_volatility(stock, start_date.strftime('%Y-%m-%d'), end_date.strftime('%Y-%m-%d'))\n",
        "        if hv is not None:\n",
        "            hv_results[stock] = hv\n",
        "\n",
        "    # Sort stocks by volatility\n",
        "    sorted_stocks = sorted(hv_results.items(), key=lambda x: x[1])\n",
        "\n",
        "    # Filter stocks below threshold\n",
        "    stable_stocks = [stock for stock, vol in sorted_stocks if vol < hv_threshold]\n",
        "\n",
        "    print(\"\\nAll Stocks and Their Annualized Volatility (Past 5 Years):\")\n",
        "    for stock, vol in sorted_stocks:\n",
        "        print(f\"{stock}: {vol:.2f}\")\n",
        "\n",
        "    print(\"\\n✔️ Stable Stocks Suitable for 5-Year Investment (HV < {:.2f}):\".format(hv_threshold))\n",
        "    print(stable_stocks)\n",
        "\n",
        "    return stable_stocks, hv_results\n"
      ]
    },
    {
      "cell_type": "code",
      "source": [
        "stock_list = [\"TCS\", \"INFY\", \"RELIANCE\", \"ZOMATO\", \"PAYTM\", \"ADANIENT\", \"HDFC\", \"ITC\", \"DMART\"]\n",
        "stable_stocks, volatility_data = filter_stable_stocks(stock_list, hv_threshold=0.35)\n"
      ],
      "metadata": {
        "colab": {
          "base_uri": "https://localhost:8080/"
        },
        "id": "IVRRR6kOhscP",
        "outputId": "3fec9c42-aecd-4bde-e112-8a713b3e6da5"
      },
      "execution_count": 24,
      "outputs": [
        {
          "output_type": "stream",
          "name": "stderr",
          "text": [
            "ERROR:yfinance:\n",
            "1 Failed download:\n",
            "ERROR:yfinance:['HDFC.NS']: YFTzMissingError('possibly delisted; no timezone found')\n"
          ]
        },
        {
          "output_type": "stream",
          "name": "stdout",
          "text": [
            "No data for HDFC\n",
            "\n",
            "All Stocks and Their Annualized Volatility (Past 5 Years):\n",
            "TCS: 0.22\n",
            "ITC: 0.22\n",
            "RELIANCE: 0.25\n",
            "INFY: 0.25\n",
            "DMART: 0.30\n",
            "ZOMATO: 0.51\n",
            "ADANIENT: 0.53\n",
            "PAYTM: 0.57\n",
            "\n",
            "✔️ Stable Stocks Suitable for 5-Year Investment (HV < 0.35):\n",
            "['TCS', 'ITC', 'RELIANCE', 'INFY', 'DMART']\n"
          ]
        }
      ]
    },
    {
      "cell_type": "code",
      "source": [
        "import yfinance as yf\n",
        "import pandas as pd\n",
        "from sklearn.preprocessing import MinMaxScaler\n",
        "import numpy as np\n",
        "\n",
        "def get_stock_data(symbol, start='2010-01-01', end='2024-12-31'):\n",
        "    df = yf.download(symbol + \".NS\", start=start, end=end)\n",
        "    df = df[['Close']].dropna()\n",
        "    return df\n"
      ],
      "metadata": {
        "id": "tvOxBJ5hkWpn"
      },
      "execution_count": 13,
      "outputs": []
    },
    {
      "cell_type": "code",
      "source": [
        "def prepare_lstm_data(df, time_steps=60):\n",
        "    scaler = MinMaxScaler()\n",
        "    scaled = scaler.fit_transform(df)\n",
        "\n",
        "    X, y = [], []\n",
        "    for i in range(time_steps, len(scaled)):\n",
        "        X.append(scaled[i - time_steps:i, 0])\n",
        "        y.append(scaled[i, 0])\n",
        "    return np.array(X), np.array(y), scaler\n"
      ],
      "metadata": {
        "id": "PIHEaY0AoVPu"
      },
      "execution_count": 11,
      "outputs": []
    },
    {
      "cell_type": "code",
      "source": [
        "#This cell is used for testing\n",
        "import yfinance as yf\n",
        "start='2010-01-01'\n",
        "end='2024-12-31'\n",
        "df = yf.download(\"TCS.NS\", start=start, end=end)\n",
        "df = df[['Close']].dropna()\n",
        "X, y, z = prepare_lstm_data(df)\n",
        "print(X)\n",
        "print(y)"
      ],
      "metadata": {
        "colab": {
          "base_uri": "https://localhost:8080/"
        },
        "id": "bvVkGcIzq5bw",
        "outputId": "428f0814-c7ff-41ac-e6c0-9c7cfe9042ae"
      },
      "execution_count": 17,
      "outputs": [
        {
          "output_type": "stream",
          "name": "stderr",
          "text": [
            "\r[*********************100%***********************]  1 of 1 completed"
          ]
        },
        {
          "output_type": "stream",
          "name": "stdout",
          "text": [
            "[[0.00475922 0.00477759 0.00321718 ... 0.0093919  0.0076111  0.01010976]\n",
            " [0.00477759 0.00321718 0.00134007 ... 0.0076111  0.01010976 0.00970022]\n",
            " [0.00321718 0.00134007 0.         ... 0.01010976 0.00970022 0.00902837]\n",
            " ...\n",
            " [0.94273059 0.93333561 0.93786953 ... 0.91276348 0.90995216 0.91491881]\n",
            " [0.93333561 0.93786953 0.92498064 ... 0.90995216 0.91491881 0.91248235]\n",
            " [0.93786953 0.92498064 0.92953792 ... 0.91491881 0.91248235 0.91148673]]\n",
            "[0.00970022 0.00902837 0.00921242 ... 0.91248235 0.91148673 0.91006931]\n"
          ]
        },
        {
          "output_type": "stream",
          "name": "stderr",
          "text": [
            "\n"
          ]
        }
      ]
    },
    {
      "cell_type": "code",
      "source": [
        "from keras.models import Sequential\n",
        "from keras.layers import LSTM, Dense, Dropout\n",
        "\n",
        "def build_lstm_model(input_shape):\n",
        "    model = Sequential()\n",
        "    model.add(LSTM(units=50, return_sequences=True, input_shape=input_shape))\n",
        "    model.add(Dropout(0.2))\n",
        "    model.add(LSTM(units=50))\n",
        "    model.add(Dropout(0.2))\n",
        "    model.add(Dense(units=1))  # Predict next price\n",
        "    model.compile(optimizer='adam', loss='mean_squared_error')\n",
        "    return model\n"
      ],
      "metadata": {
        "id": "yjLjxT_6oYzU"
      },
      "execution_count": 20,
      "outputs": []
    },
    {
      "cell_type": "code",
      "source": [
        "def predict_future_price(model, df, scaler, time_steps=60, days_ahead=1260):  # 5 years = ~1260 trading days\n",
        "    last_sequence = df[-time_steps:].values\n",
        "    scaled_seq = scaler.transform(last_sequence)\n",
        "    predicted = []\n",
        "\n",
        "    input_seq = scaled_seq.copy()\n",
        "    for _ in range(days_ahead):\n",
        "        X_input = np.array(input_seq[-time_steps:]).reshape(1, time_steps, 1)\n",
        "        next_price = model.predict(X_input, verbose=0)\n",
        "        predicted.append(next_price[0][0])\n",
        "        input_seq = np.append(input_seq, [[next_price]], axis=0)\n",
        "\n",
        "    predicted_prices = scaler.inverse_transform(np.array(predicted).reshape(-1, 1))\n",
        "    return predicted_prices[-1][0]  # Last price after 5 years\n"
      ],
      "metadata": {
        "id": "D1qT8TJcodN1"
      },
      "execution_count": 19,
      "outputs": []
    },
    {
      "cell_type": "code",
      "source": [
        "def compare_returns(stable_stocks):\n",
        "    returns = {}\n",
        "    for stock in stable_stocks:\n",
        "        df = get_stock_data(stock)\n",
        "        X, y, scaler = prepare_lstm_data(df)\n",
        "        X = X.reshape((X.shape[0], X.shape[1], 1))\n",
        "\n",
        "        model = build_lstm_model((X.shape[1], 1))\n",
        "        model.fit(X, y, epochs=20, batch_size=32, verbose=0)\n",
        "\n",
        "        future_price = predict_future_price(model, df[['Close']], scaler)\n",
        "        current_price = df.iloc[-1]['Close']\n",
        "        returns[stock] = (future_price - current_price) / current_price\n",
        "\n",
        "    return sorted(returns.items(), key=lambda x: x[1], reverse=True)\n"
      ],
      "metadata": {
        "id": "ApNgCr-2ogk9"
      },
      "execution_count": 18,
      "outputs": []
    },
    {
      "cell_type": "code",
      "source": [
        "ans=compare_returns(stable_stocks)"
      ],
      "metadata": {
        "colab": {
          "base_uri": "https://localhost:8080/",
          "height": 376
        },
        "id": "G-DW19gVqh2Z",
        "outputId": "f2cf2ab5-f260-4cfe-f251-969418a1c217"
      },
      "execution_count": 25,
      "outputs": [
        {
          "output_type": "stream",
          "name": "stderr",
          "text": [
            "\r[*********************100%***********************]  1 of 1 completed\n",
            "/usr/local/lib/python3.11/dist-packages/keras/src/layers/rnn/rnn.py:200: UserWarning: Do not pass an `input_shape`/`input_dim` argument to a layer. When using Sequential models, prefer using an `Input(shape)` object as the first layer in the model instead.\n",
            "  super().__init__(**kwargs)\n"
          ]
        },
        {
          "output_type": "error",
          "ename": "ValueError",
          "evalue": "all the input arrays must have same number of dimensions, but the array at index 0 has 2 dimension(s) and the array at index 1 has 4 dimension(s)",
          "traceback": [
            "\u001b[0;31m---------------------------------------------------------------------------\u001b[0m",
            "\u001b[0;31mValueError\u001b[0m                                Traceback (most recent call last)",
            "\u001b[0;32m<ipython-input-25-b839b1b19d8d>\u001b[0m in \u001b[0;36m<cell line: 0>\u001b[0;34m()\u001b[0m\n\u001b[0;32m----> 1\u001b[0;31m \u001b[0mans\u001b[0m\u001b[0;34m=\u001b[0m\u001b[0mcompare_returns\u001b[0m\u001b[0;34m(\u001b[0m\u001b[0mstable_stocks\u001b[0m\u001b[0;34m)\u001b[0m\u001b[0;34m\u001b[0m\u001b[0;34m\u001b[0m\u001b[0m\n\u001b[0m",
            "\u001b[0;32m<ipython-input-18-5618efa5627f>\u001b[0m in \u001b[0;36mcompare_returns\u001b[0;34m(stable_stocks)\u001b[0m\n\u001b[1;32m      9\u001b[0m         \u001b[0mmodel\u001b[0m\u001b[0;34m.\u001b[0m\u001b[0mfit\u001b[0m\u001b[0;34m(\u001b[0m\u001b[0mX\u001b[0m\u001b[0;34m,\u001b[0m \u001b[0my\u001b[0m\u001b[0;34m,\u001b[0m \u001b[0mepochs\u001b[0m\u001b[0;34m=\u001b[0m\u001b[0;36m20\u001b[0m\u001b[0;34m,\u001b[0m \u001b[0mbatch_size\u001b[0m\u001b[0;34m=\u001b[0m\u001b[0;36m32\u001b[0m\u001b[0;34m,\u001b[0m \u001b[0mverbose\u001b[0m\u001b[0;34m=\u001b[0m\u001b[0;36m0\u001b[0m\u001b[0;34m)\u001b[0m\u001b[0;34m\u001b[0m\u001b[0;34m\u001b[0m\u001b[0m\n\u001b[1;32m     10\u001b[0m \u001b[0;34m\u001b[0m\u001b[0m\n\u001b[0;32m---> 11\u001b[0;31m         \u001b[0mfuture_price\u001b[0m \u001b[0;34m=\u001b[0m \u001b[0mpredict_future_price\u001b[0m\u001b[0;34m(\u001b[0m\u001b[0mmodel\u001b[0m\u001b[0;34m,\u001b[0m \u001b[0mdf\u001b[0m\u001b[0;34m[\u001b[0m\u001b[0;34m[\u001b[0m\u001b[0;34m'Close'\u001b[0m\u001b[0;34m]\u001b[0m\u001b[0;34m]\u001b[0m\u001b[0;34m,\u001b[0m \u001b[0mscaler\u001b[0m\u001b[0;34m)\u001b[0m\u001b[0;34m\u001b[0m\u001b[0;34m\u001b[0m\u001b[0m\n\u001b[0m\u001b[1;32m     12\u001b[0m         \u001b[0mcurrent_price\u001b[0m \u001b[0;34m=\u001b[0m \u001b[0mdf\u001b[0m\u001b[0;34m.\u001b[0m\u001b[0miloc\u001b[0m\u001b[0;34m[\u001b[0m\u001b[0;34m-\u001b[0m\u001b[0;36m1\u001b[0m\u001b[0;34m]\u001b[0m\u001b[0;34m[\u001b[0m\u001b[0;34m'Close'\u001b[0m\u001b[0;34m]\u001b[0m\u001b[0;34m\u001b[0m\u001b[0;34m\u001b[0m\u001b[0m\n\u001b[1;32m     13\u001b[0m         \u001b[0mreturns\u001b[0m\u001b[0;34m[\u001b[0m\u001b[0mstock\u001b[0m\u001b[0;34m]\u001b[0m \u001b[0;34m=\u001b[0m \u001b[0;34m(\u001b[0m\u001b[0mfuture_price\u001b[0m \u001b[0;34m-\u001b[0m \u001b[0mcurrent_price\u001b[0m\u001b[0;34m)\u001b[0m \u001b[0;34m/\u001b[0m \u001b[0mcurrent_price\u001b[0m\u001b[0;34m\u001b[0m\u001b[0;34m\u001b[0m\u001b[0m\n",
            "\u001b[0;32m<ipython-input-19-72f8e92bd4e8>\u001b[0m in \u001b[0;36mpredict_future_price\u001b[0;34m(model, df, scaler, time_steps, days_ahead)\u001b[0m\n\u001b[1;32m      9\u001b[0m         \u001b[0mnext_price\u001b[0m \u001b[0;34m=\u001b[0m \u001b[0mmodel\u001b[0m\u001b[0;34m.\u001b[0m\u001b[0mpredict\u001b[0m\u001b[0;34m(\u001b[0m\u001b[0mX_input\u001b[0m\u001b[0;34m,\u001b[0m \u001b[0mverbose\u001b[0m\u001b[0;34m=\u001b[0m\u001b[0;36m0\u001b[0m\u001b[0;34m)\u001b[0m\u001b[0;34m\u001b[0m\u001b[0;34m\u001b[0m\u001b[0m\n\u001b[1;32m     10\u001b[0m         \u001b[0mpredicted\u001b[0m\u001b[0;34m.\u001b[0m\u001b[0mappend\u001b[0m\u001b[0;34m(\u001b[0m\u001b[0mnext_price\u001b[0m\u001b[0;34m[\u001b[0m\u001b[0;36m0\u001b[0m\u001b[0;34m]\u001b[0m\u001b[0;34m[\u001b[0m\u001b[0;36m0\u001b[0m\u001b[0;34m]\u001b[0m\u001b[0;34m)\u001b[0m\u001b[0;34m\u001b[0m\u001b[0;34m\u001b[0m\u001b[0m\n\u001b[0;32m---> 11\u001b[0;31m         \u001b[0minput_seq\u001b[0m \u001b[0;34m=\u001b[0m \u001b[0mnp\u001b[0m\u001b[0;34m.\u001b[0m\u001b[0mappend\u001b[0m\u001b[0;34m(\u001b[0m\u001b[0minput_seq\u001b[0m\u001b[0;34m,\u001b[0m \u001b[0;34m[\u001b[0m\u001b[0;34m[\u001b[0m\u001b[0mnext_price\u001b[0m\u001b[0;34m]\u001b[0m\u001b[0;34m]\u001b[0m\u001b[0;34m,\u001b[0m \u001b[0maxis\u001b[0m\u001b[0;34m=\u001b[0m\u001b[0;36m0\u001b[0m\u001b[0;34m)\u001b[0m\u001b[0;34m\u001b[0m\u001b[0;34m\u001b[0m\u001b[0m\n\u001b[0m\u001b[1;32m     12\u001b[0m \u001b[0;34m\u001b[0m\u001b[0m\n\u001b[1;32m     13\u001b[0m     \u001b[0mpredicted_prices\u001b[0m \u001b[0;34m=\u001b[0m \u001b[0mscaler\u001b[0m\u001b[0;34m.\u001b[0m\u001b[0minverse_transform\u001b[0m\u001b[0;34m(\u001b[0m\u001b[0mnp\u001b[0m\u001b[0;34m.\u001b[0m\u001b[0marray\u001b[0m\u001b[0;34m(\u001b[0m\u001b[0mpredicted\u001b[0m\u001b[0;34m)\u001b[0m\u001b[0;34m.\u001b[0m\u001b[0mreshape\u001b[0m\u001b[0;34m(\u001b[0m\u001b[0;34m-\u001b[0m\u001b[0;36m1\u001b[0m\u001b[0;34m,\u001b[0m \u001b[0;36m1\u001b[0m\u001b[0;34m)\u001b[0m\u001b[0;34m)\u001b[0m\u001b[0;34m\u001b[0m\u001b[0;34m\u001b[0m\u001b[0m\n",
            "\u001b[0;32m/usr/local/lib/python3.11/dist-packages/numpy/lib/_function_base_impl.py\u001b[0m in \u001b[0;36mappend\u001b[0;34m(arr, values, axis)\u001b[0m\n\u001b[1;32m   5819\u001b[0m         \u001b[0mvalues\u001b[0m \u001b[0;34m=\u001b[0m \u001b[0mravel\u001b[0m\u001b[0;34m(\u001b[0m\u001b[0mvalues\u001b[0m\u001b[0;34m)\u001b[0m\u001b[0;34m\u001b[0m\u001b[0;34m\u001b[0m\u001b[0m\n\u001b[1;32m   5820\u001b[0m         \u001b[0maxis\u001b[0m \u001b[0;34m=\u001b[0m \u001b[0marr\u001b[0m\u001b[0;34m.\u001b[0m\u001b[0mndim\u001b[0m\u001b[0;34m-\u001b[0m\u001b[0;36m1\u001b[0m\u001b[0;34m\u001b[0m\u001b[0;34m\u001b[0m\u001b[0m\n\u001b[0;32m-> 5821\u001b[0;31m     \u001b[0;32mreturn\u001b[0m \u001b[0mconcatenate\u001b[0m\u001b[0;34m(\u001b[0m\u001b[0;34m(\u001b[0m\u001b[0marr\u001b[0m\u001b[0;34m,\u001b[0m \u001b[0mvalues\u001b[0m\u001b[0;34m)\u001b[0m\u001b[0;34m,\u001b[0m \u001b[0maxis\u001b[0m\u001b[0;34m=\u001b[0m\u001b[0maxis\u001b[0m\u001b[0;34m)\u001b[0m\u001b[0;34m\u001b[0m\u001b[0;34m\u001b[0m\u001b[0m\n\u001b[0m\u001b[1;32m   5822\u001b[0m \u001b[0;34m\u001b[0m\u001b[0m\n\u001b[1;32m   5823\u001b[0m \u001b[0;34m\u001b[0m\u001b[0m\n",
            "\u001b[0;31mValueError\u001b[0m: all the input arrays must have same number of dimensions, but the array at index 0 has 2 dimension(s) and the array at index 1 has 4 dimension(s)"
          ]
        }
      ]
    },
    {
      "cell_type": "code",
      "source": [
        "stock_data = yf.download('TCS.NS', start='2010-01-01', end='2025-01-01')\n",
        "\n",
        "# Print the columns to see available ones\n",
        "print(stock_data.columns)"
      ],
      "metadata": {
        "colab": {
          "base_uri": "https://localhost:8080/"
        },
        "id": "KtznQqyHo91P",
        "outputId": "3dc82693-a229-4f28-b377-51a0ffd1af53"
      },
      "execution_count": 9,
      "outputs": [
        {
          "output_type": "stream",
          "name": "stderr",
          "text": [
            "\r[*********************100%***********************]  1 of 1 completed"
          ]
        },
        {
          "output_type": "stream",
          "name": "stdout",
          "text": [
            "MultiIndex([( 'Close', 'TCS.NS'),\n",
            "            (  'High', 'TCS.NS'),\n",
            "            (   'Low', 'TCS.NS'),\n",
            "            (  'Open', 'TCS.NS'),\n",
            "            ('Volume', 'TCS.NS')],\n",
            "           names=['Price', 'Ticker'])\n"
          ]
        },
        {
          "output_type": "stream",
          "name": "stderr",
          "text": [
            "\n"
          ]
        }
      ]
    }
  ]
}